{
 "cells": [
  {
   "cell_type": "code",
   "execution_count": 3,
   "metadata": {
    "pycharm": {
     "name": "#%%\n"
    }
   },
   "outputs": [
    {
     "name": "stderr",
     "output_type": "stream",
     "text": [
      "c:\\users\\cncen\\.virtualenvs\\dc-qiskit-stochastics-i_-wdnbc\\lib\\site-packages\\qiskit\\quantum_info\\operators\\pauli.py:111: DeprecationWarning: `np.bool` is a deprecated alias for the builtin `bool`. To silence this warning, use `bool` by itself. Doing this will not modify any behavior and is safe. If you specifically wanted the numpy scalar type, use `np.bool_` here.\n",
      "Deprecated in NumPy 1.20; for more details and guidance: https://numpy.org/devdocs/release/1.20.0-notes.html#deprecations\n",
      "  z = np.zeros(len(label), dtype=np.bool)\n",
      "c:\\users\\cncen\\.virtualenvs\\dc-qiskit-stochastics-i_-wdnbc\\lib\\site-packages\\qiskit\\quantum_info\\operators\\pauli.py:112: DeprecationWarning: `np.bool` is a deprecated alias for the builtin `bool`. To silence this warning, use `bool` by itself. Doing this will not modify any behavior and is safe. If you specifically wanted the numpy scalar type, use `np.bool_` here.\n",
      "Deprecated in NumPy 1.20; for more details and guidance: https://numpy.org/devdocs/release/1.20.0-notes.html#deprecations\n",
      "  x = np.zeros(len(label), dtype=np.bool)\n",
      "c:\\users\\cncen\\.virtualenvs\\dc-qiskit-stochastics-i_-wdnbc\\lib\\site-packages\\qiskit\\quantum_info\\operators\\pauli.py:34: DeprecationWarning: `np.bool` is a deprecated alias for the builtin `bool`. To silence this warning, use `bool` by itself. Doing this will not modify any behavior and is safe. If you specifically wanted the numpy scalar type, use `np.bool_` here.\n",
      "Deprecated in NumPy 1.20; for more details and guidance: https://numpy.org/devdocs/release/1.20.0-notes.html#deprecations\n",
      "  arr = np.asarray(arr).astype(np.bool)\n",
      "c:\\users\\cncen\\.virtualenvs\\dc-qiskit-stochastics-i_-wdnbc\\lib\\site-packages\\qiskit\\quantum_info\\operators\\pauli.py:34: DeprecationWarning: `np.bool` is a deprecated alias for the builtin `bool`. To silence this warning, use `bool` by itself. Doing this will not modify any behavior and is safe. If you specifically wanted the numpy scalar type, use `np.bool_` here.\n",
      "Deprecated in NumPy 1.20; for more details and guidance: https://numpy.org/devdocs/release/1.20.0-notes.html#deprecations\n",
      "  arr = np.asarray(arr).astype(np.bool)\n",
      "c:\\users\\cncen\\.virtualenvs\\dc-qiskit-stochastics-i_-wdnbc\\lib\\site-packages\\qiskit\\quantum_info\\operators\\pauli.py:111: DeprecationWarning: `np.bool` is a deprecated alias for the builtin `bool`. To silence this warning, use `bool` by itself. Doing this will not modify any behavior and is safe. If you specifically wanted the numpy scalar type, use `np.bool_` here.\n",
      "Deprecated in NumPy 1.20; for more details and guidance: https://numpy.org/devdocs/release/1.20.0-notes.html#deprecations\n",
      "  z = np.zeros(len(label), dtype=np.bool)\n",
      "c:\\users\\cncen\\.virtualenvs\\dc-qiskit-stochastics-i_-wdnbc\\lib\\site-packages\\qiskit\\quantum_info\\operators\\pauli.py:112: DeprecationWarning: `np.bool` is a deprecated alias for the builtin `bool`. To silence this warning, use `bool` by itself. Doing this will not modify any behavior and is safe. If you specifically wanted the numpy scalar type, use `np.bool_` here.\n",
      "Deprecated in NumPy 1.20; for more details and guidance: https://numpy.org/devdocs/release/1.20.0-notes.html#deprecations\n",
      "  x = np.zeros(len(label), dtype=np.bool)\n",
      "c:\\users\\cncen\\.virtualenvs\\dc-qiskit-stochastics-i_-wdnbc\\lib\\site-packages\\qiskit\\quantum_info\\operators\\pauli.py:34: DeprecationWarning: `np.bool` is a deprecated alias for the builtin `bool`. To silence this warning, use `bool` by itself. Doing this will not modify any behavior and is safe. If you specifically wanted the numpy scalar type, use `np.bool_` here.\n",
      "Deprecated in NumPy 1.20; for more details and guidance: https://numpy.org/devdocs/release/1.20.0-notes.html#deprecations\n",
      "  arr = np.asarray(arr).astype(np.bool)\n",
      "c:\\users\\cncen\\.virtualenvs\\dc-qiskit-stochastics-i_-wdnbc\\lib\\site-packages\\qiskit\\quantum_info\\operators\\pauli.py:34: DeprecationWarning: `np.bool` is a deprecated alias for the builtin `bool`. To silence this warning, use `bool` by itself. Doing this will not modify any behavior and is safe. If you specifically wanted the numpy scalar type, use `np.bool_` here.\n",
      "Deprecated in NumPy 1.20; for more details and guidance: https://numpy.org/devdocs/release/1.20.0-notes.html#deprecations\n",
      "  arr = np.asarray(arr).astype(np.bool)\n",
      "c:\\users\\cncen\\.virtualenvs\\dc-qiskit-stochastics-i_-wdnbc\\lib\\site-packages\\qiskit\\quantum_info\\operators\\pauli.py:111: DeprecationWarning: `np.bool` is a deprecated alias for the builtin `bool`. To silence this warning, use `bool` by itself. Doing this will not modify any behavior and is safe. If you specifically wanted the numpy scalar type, use `np.bool_` here.\n",
      "Deprecated in NumPy 1.20; for more details and guidance: https://numpy.org/devdocs/release/1.20.0-notes.html#deprecations\n",
      "  z = np.zeros(len(label), dtype=np.bool)\n",
      "c:\\users\\cncen\\.virtualenvs\\dc-qiskit-stochastics-i_-wdnbc\\lib\\site-packages\\qiskit\\quantum_info\\operators\\pauli.py:112: DeprecationWarning: `np.bool` is a deprecated alias for the builtin `bool`. To silence this warning, use `bool` by itself. Doing this will not modify any behavior and is safe. If you specifically wanted the numpy scalar type, use `np.bool_` here.\n",
      "Deprecated in NumPy 1.20; for more details and guidance: https://numpy.org/devdocs/release/1.20.0-notes.html#deprecations\n",
      "  x = np.zeros(len(label), dtype=np.bool)\n",
      "c:\\users\\cncen\\.virtualenvs\\dc-qiskit-stochastics-i_-wdnbc\\lib\\site-packages\\qiskit\\quantum_info\\operators\\pauli.py:34: DeprecationWarning: `np.bool` is a deprecated alias for the builtin `bool`. To silence this warning, use `bool` by itself. Doing this will not modify any behavior and is safe. If you specifically wanted the numpy scalar type, use `np.bool_` here.\n",
      "Deprecated in NumPy 1.20; for more details and guidance: https://numpy.org/devdocs/release/1.20.0-notes.html#deprecations\n",
      "  arr = np.asarray(arr).astype(np.bool)\n",
      "c:\\users\\cncen\\.virtualenvs\\dc-qiskit-stochastics-i_-wdnbc\\lib\\site-packages\\qiskit\\quantum_info\\operators\\pauli.py:34: DeprecationWarning: `np.bool` is a deprecated alias for the builtin `bool`. To silence this warning, use `bool` by itself. Doing this will not modify any behavior and is safe. If you specifically wanted the numpy scalar type, use `np.bool_` here.\n",
      "Deprecated in NumPy 1.20; for more details and guidance: https://numpy.org/devdocs/release/1.20.0-notes.html#deprecations\n",
      "  arr = np.asarray(arr).astype(np.bool)\n",
      "c:\\users\\cncen\\.virtualenvs\\dc-qiskit-stochastics-i_-wdnbc\\lib\\site-packages\\qiskit\\quantum_info\\operators\\pauli.py:111: DeprecationWarning: `np.bool` is a deprecated alias for the builtin `bool`. To silence this warning, use `bool` by itself. Doing this will not modify any behavior and is safe. If you specifically wanted the numpy scalar type, use `np.bool_` here.\n",
      "Deprecated in NumPy 1.20; for more details and guidance: https://numpy.org/devdocs/release/1.20.0-notes.html#deprecations\n",
      "  z = np.zeros(len(label), dtype=np.bool)\n",
      "c:\\users\\cncen\\.virtualenvs\\dc-qiskit-stochastics-i_-wdnbc\\lib\\site-packages\\qiskit\\quantum_info\\operators\\pauli.py:112: DeprecationWarning: `np.bool` is a deprecated alias for the builtin `bool`. To silence this warning, use `bool` by itself. Doing this will not modify any behavior and is safe. If you specifically wanted the numpy scalar type, use `np.bool_` here.\n",
      "Deprecated in NumPy 1.20; for more details and guidance: https://numpy.org/devdocs/release/1.20.0-notes.html#deprecations\n",
      "  x = np.zeros(len(label), dtype=np.bool)\n",
      "c:\\users\\cncen\\.virtualenvs\\dc-qiskit-stochastics-i_-wdnbc\\lib\\site-packages\\qiskit\\quantum_info\\operators\\pauli.py:34: DeprecationWarning: `np.bool` is a deprecated alias for the builtin `bool`. To silence this warning, use `bool` by itself. Doing this will not modify any behavior and is safe. If you specifically wanted the numpy scalar type, use `np.bool_` here.\n",
      "Deprecated in NumPy 1.20; for more details and guidance: https://numpy.org/devdocs/release/1.20.0-notes.html#deprecations\n",
      "  arr = np.asarray(arr).astype(np.bool)\n",
      "c:\\users\\cncen\\.virtualenvs\\dc-qiskit-stochastics-i_-wdnbc\\lib\\site-packages\\qiskit\\quantum_info\\operators\\pauli.py:34: DeprecationWarning: `np.bool` is a deprecated alias for the builtin `bool`. To silence this warning, use `bool` by itself. Doing this will not modify any behavior and is safe. If you specifically wanted the numpy scalar type, use `np.bool_` here.\n",
      "Deprecated in NumPy 1.20; for more details and guidance: https://numpy.org/devdocs/release/1.20.0-notes.html#deprecations\n",
      "  arr = np.asarray(arr).astype(np.bool)\n"
     ]
    }
   ],
   "source": [
    "import numpy as np\n",
    "from scipy.stats import lognorm\n",
    "import matplotlib.pyplot as plt\n",
    "from dc_qiskit_stochastics.simulation import lognormal"
   ]
  },
  {
   "cell_type": "code",
   "execution_count": 4,
   "outputs": [],
   "source": [
    "s0 = 50\n",
    "sigma = np.sqrt(0.01)\n",
    "mu = 0.02\n",
    "q = np.linspace(0.05, 0.95, 8)"
   ],
   "metadata": {
    "collapsed": false,
    "pycharm": {
     "name": "#%%\n"
    }
   }
  },
  {
   "cell_type": "code",
   "execution_count": 23,
   "outputs": [],
   "source": [
    "def compute_states(t: float):\n",
    "    s = sigma * np.sqrt(t)\n",
    "    mu_tilde = (mu - sigma**2 / 2) * t + np.log(s0)\n",
    "    scale = np.exp(mu_tilde)\n",
    "    xq = lognorm.ppf(q, s=s, scale=scale)\n",
    "    return xq\n",
    "\n",
    "\n",
    "def compute_probability(current_state: float, target_states: np.ndarray, delta_t: float):\n",
    "\n",
    "    s = sigma * np.sqrt(delta_t)\n",
    "    mu_tilde = (mu - sigma**2 / 2) * delta_t + np.log(current_state)\n",
    "    scale = np.exp(mu_tilde)\n",
    "\n",
    "    _p = lognorm.pdf(target_states, s=s, scale=scale)\n",
    "    p = _p / np.sum(_p)\n",
    "    return p\n"
   ],
   "metadata": {
    "collapsed": false,
    "pycharm": {
     "name": "#%%\n"
    }
   }
  },
  {
   "cell_type": "code",
   "execution_count": 34,
   "outputs": [],
   "source": [
    "delta_t = 3\n",
    "\n",
    "\n",
    "states = {}\n",
    "transition_matrices = {}\n",
    "last_states = np.asarray([s0])\n",
    "for level in range(1, 5):\n",
    "    target_states = compute_states(level * delta_t)\n",
    "\n",
    "    transition_matrix = np.zeros(shape=(last_states.shape[0], target_states.shape[0]))\n",
    "    for row, cs in enumerate(last_states):\n",
    "        transition_matrix[row, :] = compute_probability(cs, target_states, delta_t)\n",
    "\n",
    "    transition_matrices[level] = transition_matrix\n",
    "    states[level] = last_states\n",
    "    last_states = target_states\n"
   ],
   "metadata": {
    "collapsed": false,
    "pycharm": {
     "name": "#%%\n"
    }
   }
  },
  {
   "cell_type": "code",
   "execution_count": 35,
   "outputs": [
    {
     "data": {
      "text/plain": "{1: array([50]),\n 2: array([39.33544419, 44.59098852, 47.92961801, 50.85562691, 53.78826052,\n        57.07192803, 61.34503406, 69.54124367]),\n 3: array([36.5659616 , 43.66157226, 48.35536636, 52.58229377, 56.92112673,\n        61.89682   , 68.55097636, 81.85326673]),\n 4: array([34.93771544, 43.41374572, 49.19703686, 54.5146654 , 60.07394713,\n        66.56724339, 75.43488987, 93.73569753])}"
     },
     "execution_count": 35,
     "metadata": {},
     "output_type": "execute_result"
    }
   ],
   "source": [
    "states"
   ],
   "metadata": {
    "collapsed": false,
    "pycharm": {
     "name": "#%%\n"
    }
   }
  },
  {
   "cell_type": "code",
   "execution_count": 36,
   "outputs": [
    {
     "data": {
      "text/plain": "{1: array([[0.06130838, 0.13691017, 0.17141545, 0.18104159, 0.17117087,\n         0.14395653, 0.09951841, 0.03467859]]),\n 2: array([[3.19402360e-01, 3.18145257e-01, 1.97285047e-01, 1.02801649e-01,\n         4.47261698e-02, 1.47779388e-02, 2.79381844e-03, 6.77594541e-05],\n        [1.25284925e-01, 2.61911473e-01, 2.48882969e-01, 1.84093554e-01,\n         1.11568298e-01, 5.23275561e-02, 1.51595639e-02, 7.71661442e-04],\n        [6.14401777e-02, 1.96824931e-01, 2.39137608e-01, 2.16413229e-01,\n         1.58730077e-01, 9.10838529e-02, 3.37384221e-02, 2.63170253e-03],\n        [3.12293269e-02, 1.42012888e-01, 2.11099912e-01, 2.25430386e-01,\n         1.93376250e-01, 1.30940434e-01, 5.93402911e-02, 6.57051171e-03],\n        [1.52830623e-02, 9.68090854e-02, 1.74160478e-01, 2.17515027e-01,\n         2.16386750e-01, 1.71362806e-01, 9.39865387e-02, 1.44962536e-02],\n        [6.64288604e-03, 5.97310333e-02, 1.31469811e-01, 1.93755560e-01,\n         2.25429543e-01, 2.10661517e-01, 1.41360093e-01, 3.09495567e-02],\n        [2.15769336e-03, 2.97306833e-02, 8.36677363e-02, 1.50861588e-01,\n         2.12426419e-01, 2.42870869e-01, 2.08374301e-01, 6.99107092e-02],\n        [2.27652486e-04, 6.58348629e-03, 2.83910205e-02, 7.26673213e-02,\n         1.42531089e-01, 2.31320430e-01, 3.04126778e-01, 2.14152222e-01]]),\n 3: array([[4.74801018e-01, 3.35282063e-01, 1.34461061e-01, 4.30299114e-02,\n         1.05976453e-02, 1.71238990e-03, 1.15601182e-04, 3.10161246e-07],\n        [1.30110197e-01, 3.31799399e-01, 2.78699010e-01, 1.63613527e-01,\n         7.15435630e-02, 2.12067301e-02, 2.99851995e-03, 2.90534546e-05],\n        [4.13410898e-02, 2.20810539e-01, 2.83881060e-01, 2.36338729e-01,\n         1.43822502e-01, 6.04567341e-02, 1.30838243e-02, 2.65521174e-04],\n        [1.31653885e-02, 1.28997537e-01, 2.35186688e-01, 2.60810883e-01,\n         2.08172585e-01, 1.16561700e-01, 3.57734307e-02, 1.33178743e-03],\n        [3.79113338e-03, 6.59521921e-02, 1.67340530e-01, 2.43399675e-01,\n         2.51117242e-01, 1.84422859e-01, 7.87698571e-02, 5.20651121e-03],\n        [8.57769732e-04, 2.73741569e-02, 9.84979868e-02, 1.90836175e-01,\n         2.58239769e-01, 2.52624715e-01, 1.53015646e-01, 1.85537822e-02],\n        [1.10296395e-04, 7.37233345e-03, 4.06020873e-02, 1.11556892e-01,\n         2.10087114e-01, 2.91451856e-01, 2.70198926e-01, 6.86204954e-02],\n        [1.59246862e-06, 3.84397112e-04, 4.43401465e-03, 2.23488424e-02,\n         7.47257828e-02, 1.90172513e-01, 3.69265009e-01, 3.38667848e-01]]),\n 4: array([[5.93834772e-01, 3.06605916e-01, 8.09472401e-02, 1.61427710e-02,\n         2.28185034e-03, 1.82959801e-04, 4.48960774e-06, 1.37433332e-09],\n        [1.23336544e-01, 3.91439736e-01, 2.94003899e-01, 1.38289227e-01,\n         4.40228793e-02, 8.32542071e-03, 5.81199956e-04, 1.09362260e-06],\n        [2.59749839e-02, 2.34528208e-01, 3.21595706e-01, 2.47914818e-01,\n         1.25947521e-01, 3.90368128e-02, 4.97531650e-03, 2.66335638e-05],\n        [5.26316546e-03, 1.12084625e-01, 2.51894210e-01, 2.91273193e-01,\n         2.17165248e-01, 1.00963674e-01, 2.10896071e-02, 2.66278609e-04],\n        [8.98976204e-04, 4.31149849e-02, 1.54631306e-01, 2.62411238e-01,\n         2.81253974e-01, 1.91900523e-01, 6.39700288e-02, 1.81896926e-03],\n        [1.05852518e-04, 1.19740333e-02, 7.03828143e-02, 1.79160276e-01,\n         2.81812748e-01, 2.88421885e-01, 1.57574372e-01, 1.05680198e-02],\n        [5.34565262e-06, 1.72030980e-03, 1.84611949e-02, 7.70179376e-02,\n         1.93333824e-01, 3.24289138e-01, 3.23457147e-01, 6.17151023e-02],\n        [1.00751817e-08, 1.99304472e-05, 6.08466754e-04, 5.98726048e-03,\n         3.38473858e-02, 1.33908737e-01, 3.79979292e-01, 4.45648918e-01]])}"
     },
     "execution_count": 36,
     "metadata": {},
     "output_type": "execute_result"
    }
   ],
   "source": [
    "transition_matrices"
   ],
   "metadata": {
    "collapsed": false,
    "pycharm": {
     "name": "#%%\n"
    }
   }
  },
  {
   "cell_type": "code",
   "execution_count": 36,
   "outputs": [],
   "source": [],
   "metadata": {
    "collapsed": false,
    "pycharm": {
     "name": "#%%\n"
    }
   }
  }
 ],
 "metadata": {
  "kernelspec": {
   "display_name": "Python 3",
   "language": "python",
   "name": "python3"
  },
  "language_info": {
   "codemirror_mode": {
    "name": "ipython",
    "version": 3
   },
   "file_extension": ".py",
   "mimetype": "text/x-python",
   "name": "python",
   "nbconvert_exporter": "python",
   "pygments_lexer": "ipython3",
   "version": "3.8.2"
  }
 },
 "nbformat": 4,
 "nbformat_minor": 1
}